{
 "cells": [
  {
   "cell_type": "code",
   "execution_count": 1,
   "metadata": {},
   "outputs": [],
   "source": [
    "import os\n",
    "import numpy as np\n",
    "from PIL import Image\n",
    "from array import *\n",
    "from random import shuffle\n",
    "import matplotlib as mpl\n",
    "import matplotlib.pyplot as plt"
   ]
  },
  {
   "cell_type": "code",
   "execution_count": 2,
   "metadata": {},
   "outputs": [
    {
     "data": {
      "text/plain": [
       "'/Users/eugenekim'"
      ]
     },
     "execution_count": 2,
     "metadata": {},
     "output_type": "execute_result"
    }
   ],
   "source": [
    "os.getcwd()"
   ]
  },
  {
   "cell_type": "code",
   "execution_count": 3,
   "metadata": {},
   "outputs": [],
   "source": [
    "os.chdir('/Users/eugenekim/PycharmProjects')"
   ]
  },
  {
   "cell_type": "code",
   "execution_count": 4,
   "metadata": {},
   "outputs": [],
   "source": [
    "os.chdir('./')"
   ]
  },
  {
   "cell_type": "code",
   "execution_count": 5,
   "metadata": {},
   "outputs": [
    {
     "data": {
      "text/plain": [
       "'/Users/eugenekim/PycharmProjects'"
      ]
     },
     "execution_count": 5,
     "metadata": {},
     "output_type": "execute_result"
    }
   ],
   "source": [
    "os.getcwd()"
   ]
  },
  {
   "cell_type": "code",
   "execution_count": 15,
   "metadata": {},
   "outputs": [],
   "source": [
    "# Load from and save to\n",
    "Names = [['./asl-alphabet-classification/data/raw_data','train']]#, ['./asl-alphabet-classification/asl-alphabet-short','test']]\n",
    "\n",
    "for name in Names:\n",
    "    \n",
    "    data_image = np.array([])\n",
    "    data_label = np.array([])\n",
    "    count = 0\n",
    "\n",
    "    FileList = []\n",
    "    for dirname in os.listdir(name[0]): # [1:] Excludes .DS_Store from Mac OS\n",
    "        path = os.path.join(name[0],dirname)\n",
    "        for filename in os.listdir(path):\n",
    "            if filename.endswith(\".jpg\"):\n",
    "                FileList.append(os.path.join(name[0],dirname,filename))\n",
    "\n",
    "    shuffle(FileList) # Useful for further segmenting the validation set\n",
    "\n",
    "    for filename in FileList:\n",
    "        if count == 2:\n",
    "            break\n",
    "        label = filename.split('/')[3]\n",
    "\n",
    "        Im = Image.open(filename)\n",
    "        Im.thumbnail(size=(50,50))\n",
    "        pixel = Im.load()\n",
    "\n",
    "        width, height = Im.size\n",
    "\n",
    "        for x in range(0,width):\n",
    "            for y in range(0,height):\n",
    "                grey_scale = sum(pixel[y,x])//3\n",
    "                data_image = np.append(data_image,grey_scale)\n",
    "\n",
    "        data_label = np.append(data_label, label) # labels start (one unsigned byte each)\n",
    "        count += 1\n",
    "\n"
   ]
  },
  {
   "cell_type": "code",
   "execution_count": 16,
   "metadata": {},
   "outputs": [
    {
     "data": {
      "text/plain": [
       "array([95., 97., 98., ..., 89., 92., 97.])"
      ]
     },
     "execution_count": 16,
     "metadata": {},
     "output_type": "execute_result"
    }
   ],
   "source": [
    "data_image"
   ]
  },
  {
   "cell_type": "code",
   "execution_count": 17,
   "metadata": {},
   "outputs": [
    {
     "data": {
      "text/plain": [
       "array(['raw_data', 'raw_data'], dtype='<U32')"
      ]
     },
     "execution_count": 17,
     "metadata": {},
     "output_type": "execute_result"
    }
   ],
   "source": [
    "data_label"
   ]
  },
  {
   "cell_type": "code",
   "execution_count": 19,
   "metadata": {},
   "outputs": [
    {
     "data": {
      "image/png": "[encoded data removed]",
      "text/plain": [
       "<Figure size 432x288 with 1 Axes>"
      ]
     },
     "metadata": {
      "needs_background": "light"
     },
     "output_type": "display_data"
    }
   ],
   "source": [
    "image = data_image.reshape(50,100)\n",
    "plt.imshow(image, cmap='binary')\n",
    "plt.axis('off')\n",
    "plt.show()"
   ]
  },
  {
   "cell_type": "code",
   "execution_count": null,
   "metadata": {},
   "outputs": [],
   "source": []
  }
 ],
 "metadata": {
  "kernelspec": {
   "display_name": "Python 3",
   "language": "python",
   "name": "python3"
  },
  "language_info": {
   "codemirror_mode": {
    "name": "ipython",
    "version": 3
   },
   "file_extension": ".py",
   "mimetype": "text/x-python",
   "name": "python",
   "nbconvert_exporter": "python",
   "pygments_lexer": "ipython3",
   "version": "3.8.5"
  }
 },
 "nbformat": 4,
 "nbformat_minor": 4
}
