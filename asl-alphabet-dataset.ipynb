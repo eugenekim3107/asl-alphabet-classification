{
 "cells": [
  {
   "cell_type": "code",
   "execution_count": 1,
   "metadata": {},
   "outputs": [],
   "source": [
    "import torch\n",
    "import cv2\n",
    "import torchvision.transforms as transforms\n",
    "import os\n",
    "import matplotlib.pyplot as plt\n",
    "import pandas as pd"
   ]
  },
  {
   "cell_type": "code",
   "execution_count": 2,
   "metadata": {},
   "outputs": [],
   "source": [
    "os.chdir(\"/Users/eugenekim/PycharmProjects/asl-alphabet-classification/data\")"
   ]
  },
  {
   "cell_type": "code",
   "execution_count": 4,
   "metadata": {},
   "outputs": [],
   "source": [
    "def get_asl_data():\n",
    "    \n",
    "    file_path = \"./raw_data\"\n",
    "\n",
    "    #Create transformer to change np.array to tensor\n",
    "    transform = transforms.Compose([transforms.ToTensor()])\n",
    "\n",
    "    #Loop through data file\n",
    "    for data in sorted(os.listdir(file_path)):\n",
    "        if data == \"asl_alphabet_test\":\n",
    "            for letter in sorted(os.listdir(os.path.join(file_path,data))):\n",
    "\n",
    "                #Check if image ends with \".jpg\"\n",
    "                if not letter.endswith(\".jpg\"):\n",
    "                    continue\n",
    "\n",
    "                #Read image\n",
    "                read_image = cv2.imread(os.path.join(file_path,data,letter))\n",
    "\n",
    "                #Convert to RGB\n",
    "                temp_image = cv2.cvtColor(read_image, cv2.COLOR_BGR2RGB)\n",
    "\n",
    "                #Convert the image to tensor\n",
    "                image_tensor = transform(temp_image)\n",
    "\n",
    "        if data == \"asl_alphabet_train\":\n",
    "            for letter in sorted(os.listdir(os.path.join(file_path,data))):\n",
    "\n",
    "                if letter == \".DS_Store\":\n",
    "                    continue\n",
    "                for image in sorted(os.listdir(os.path.join(file_path,data,letter))):\n",
    "                    if not image.endswith(\".jpg\"):\n",
    "                        continue\n",
    "\n",
    "                    read_image = cv2.imread(os.path.join(file_path,data,letter,image))\n",
    "\n",
    "                    #Convert to RGB\n",
    "                    temp_image = cv2.cvtColor(read_image, cv2.COLOR_BGR2RGB)\n",
    "\n",
    "                    #Convert the image to tensor\n",
    "                    image_tensor = transform(temp_image)\n"
   ]
  },
  {
   "cell_type": "code",
   "execution_count": null,
   "metadata": {},
   "outputs": [],
   "source": [
    "class ASLDataset(Dataset):\n",
    "    \n",
    "    def __init__(self, csv_file, root_dir, transform=None):\n",
    "        self.csv_file = pd.read_csv(csv_file)\n",
    "        self.root_dir = root_dir\n",
    "        self.transform = transform\n",
    "        \n",
    "    def __len__(self):\n",
    "        return len(self.csv_file)\n",
    "    \n",
    "    def __getitem__(self, idx):\n",
    "        "
   ]
  }
 ],
 "metadata": {
  "kernelspec": {
   "display_name": "Python 3",
   "language": "python",
   "name": "python3"
  },
  "language_info": {
   "codemirror_mode": {
    "name": "ipython",
    "version": 3
   },
   "file_extension": ".py",
   "mimetype": "text/x-python",
   "name": "python",
   "nbconvert_exporter": "python",
   "pygments_lexer": "ipython3",
   "version": "3.8.5"
  }
 },
 "nbformat": 4,
 "nbformat_minor": 4
}
